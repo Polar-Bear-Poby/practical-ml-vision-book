{
  "nbformat": 4,
  "nbformat_minor": 0,
  "metadata": {
    "colab": {
      "provenance": [],
      "authorship_tag": "ABX9TyNiyAs0x8g0hueuMe0pQzxt",
      "include_colab_link": true
    },
    "kernelspec": {
      "name": "python3",
      "display_name": "Python 3"
    },
    "language_info": {
      "name": "python"
    }
  },
  "cells": [
    {
      "cell_type": "markdown",
      "metadata": {
        "id": "view-in-github",
        "colab_type": "text"
      },
      "source": [
        "<a href=\"https://colab.research.google.com/github/Polar-Bear-Poby/practical-ml-vision-book/blob/master/base_code.ipynb\" target=\"_parent\"><img src=\"https://colab.research.google.com/assets/colab-badge.svg\" alt=\"Open In Colab\"/></a>"
      ]
    },
    {
      "cell_type": "code",
      "source": [
        "# Google Colab 환경인지 확인\n",
        "import os\n",
        "def is_colab_environment():\n",
        "    return '/content' in os.getcwd()\n",
        "\n",
        "print(is_colab_environment())\n",
        "# root_dir 설정\n",
        "\n",
        "# 로컬 환경\n",
        "root_dir = 'Yangje_AI'\n",
        "\n",
        "if is_colab_environment():\n",
        "    # Google Colab 환경\n",
        "    from google.colab import drive\n",
        "    drive.mount('/content/drive')\n",
        "    root_dir = '/content/drive/MyDrive/Yangje_AI'\n",
        "\n",
        "print(root_dir)"
      ],
      "metadata": {
        "colab": {
          "base_uri": "https://localhost:8080/"
        },
        "id": "mxJ03pA2c1Rr",
        "outputId": "4c7d4224-a162-4cc3-dfe0-7a16722baf26"
      },
      "execution_count": 4,
      "outputs": [
        {
          "output_type": "stream",
          "name": "stdout",
          "text": [
            "True\n",
            "Mounted at /content/drive\n",
            "/content/drive/MyDrive/Yangje_AI\n"
          ]
        }
      ]
    },
    {
      "cell_type": "code",
      "source": [
        "!git clone https://github.com/Polar-Bear-Poby/practical-ml-vision-practice.git"
      ],
      "metadata": {
        "colab": {
          "base_uri": "https://localhost:8080/"
        },
        "id": "Ysyfj8cRawek",
        "outputId": "b1231acd-b375-46fb-b014-7efc58734e81"
      },
      "execution_count": 7,
      "outputs": [
        {
          "output_type": "stream",
          "name": "stdout",
          "text": [
            "Cloning into 'practical-ml-vision-practice'...\n",
            "fatal: could not read Username for 'https://github.com': No such device or address\n"
          ]
        }
      ]
    },
    {
      "cell_type": "code",
      "source": [],
      "metadata": {
        "id": "AokBcaHackUE"
      },
      "execution_count": null,
      "outputs": []
    },
    {
      "cell_type": "code",
      "source": [
        "os.listdir()"
      ],
      "metadata": {
        "colab": {
          "base_uri": "https://localhost:8080/"
        },
        "id": "G8JAKoKldHyi",
        "outputId": "914b0ec2-68ec-46ad-e957-fb11124c7bbc"
      },
      "execution_count": 3,
      "outputs": [
        {
          "output_type": "execute_result",
          "data": {
            "text/plain": [
              "['Ex) Pandas.ipynb',\n",
              " 'bin',\n",
              " 'lib',\n",
              " 'pyvenv.cfg',\n",
              " '.gitignore',\n",
              " 'ngrok_pycharm.ipynb',\n",
              " 'Untitled0.ipynb']"
            ]
          },
          "metadata": {},
          "execution_count": 3
        }
      ]
    }
  ]
}