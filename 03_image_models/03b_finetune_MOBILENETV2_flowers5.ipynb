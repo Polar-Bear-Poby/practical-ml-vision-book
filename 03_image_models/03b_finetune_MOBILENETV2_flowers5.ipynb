{
  "cells": [
    {
      "cell_type": "code",
      "execution_count": 1,
      "metadata": {
        "id": "lLz90Lmve0yW",
        "outputId": "0a7e8e84-38cb-4e8a-b5b6-2d0280375900",
        "colab": {
          "base_uri": "https://localhost:8080/",
          "height": 144
        }
      },
      "outputs": [
        {
          "output_type": "execute_result",
          "data": {
            "text/plain": [
              "<IPython.core.display.Markdown object>"
            ],
            "text/markdown": "<table class=\"tfo-notebook-buttons\" align=\"left\"><td><a target=\"_blank\" href=\"https://console.cloud.google.com/ai-platform/notebooks/deploy-notebook?name=5+flowers%EC%97%90+%EB%8C%80%ED%95%B4+MobileNetV2+%ED%8C%8C%EC%9D%B8+%ED%8A%9C%EB%8B%9D%28%EC%9D%B4%EB%AF%B8%EC%A7%80+%EB%B6%84%EB%A5%98%29&download_url=https%3A%2F%2Fgithub.com%2Fychoi-kr%2Fpractical-ml-vision-book-ko%2Fraw%2Fmaster%2F03_image_models%2F03b_finetune_MOBILENETV2_flowers5.ipynb\"><img src=\"https://raw.githubusercontent.com/ychoi-kr/practical-ml-vision-book-ko/master/logo-cloud.png\"/>AI Platform Notebook에서 실행</a></td><td><a target=\"_blank\" href=\"https://colab.research.google.com/github/ychoi-kr/practical-ml-vision-book-ko/blob/master/03_image_models/03b_finetune_MOBILENETV2_flowers5.ipynb\"><img src=\"https://www.tensorflow.org/images/colab_logo_32px.png\" />Google Colab에서 실행</a></td><td><a target=\"_blank\" href=\"https://github.com/ychoi-kr/practical-ml-vision-book-ko/blob/master/03_image_models/03b_finetune_MOBILENETV2_flowers5.ipynb\"><img src=\"https://www.tensorflow.org/images/GitHub-Mark-32px.png\" />GitHub에서 소스 보기</a></td><td><a href=\"https://raw.githubusercontent.com/ychoi-kr/practical-ml-vision-book-ko/master/03_image_models/03b_finetune_MOBILENETV2_flowers5.ipynb\"><img src=\"https://www.tensorflow.org/images/download_logo_32px.png\" />노트북 내려받기</a></td></table><br/><br/><h1>5 flowers에 대해 MobileNetV2 파인 튜닝(이미지 분류)</h1>이 노트북은 TPU 또는 GPU로 실행하도록 설정되어 있다. TPUv3 에서 실행했다. TPUv2(Colab)나 GPU 등 메모리가 적은 하드웨어에서 실행할 경우 다음 [구성] 섹션에서 배치 크기나 이미지 크기를 작게 설정할 필요가 있는 경우가 있다."
          },
          "metadata": {},
          "execution_count": 1
        }
      ],
      "source": [
        "import urllib\n",
        "from IPython.display import Markdown as md\n",
        "_nb_loc = \"03_image_models/03b_finetune_MOBILENETV2_flowers5.ipynb\"\n",
        "_nb_title = \"5 flowers에 대해 MobileNetV2 파인 튜닝(이미지 분류)\"\n",
        "_nb_message = \"이 노트북은 TPU 또는 GPU로 실행하도록 설정되어 있다. TPUv3 에서 실행했다. TPUv2(Colab)나 GPU 등 메모리가 적은 하드웨어에서 실행할 경우 다음 [구성] 섹션에서 배치 크기나 이미지 크기를 작게 설정할 필요가 있는 경우가 있다.\"\n",
        "### no need to change any of this\n",
        "_icons=[\"https://raw.githubusercontent.com/ychoi-kr/practical-ml-vision-book-ko/master/logo-cloud.png\", \"https://www.tensorflow.org/images/colab_logo_32px.png\", \"https://www.tensorflow.org/images/GitHub-Mark-32px.png\", \"https://www.tensorflow.org/images/download_logo_32px.png\"]\n",
        "_links=[\"https://console.cloud.google.com/ai-platform/notebooks/deploy-notebook?\" + urllib.parse.urlencode({\"name\": _nb_title, \"download_url\": \"https://github.com/ychoi-kr/practical-ml-vision-book-ko/raw/master/\"+_nb_loc}), \"https://colab.research.google.com/github/ychoi-kr/practical-ml-vision-book-ko/blob/master/{0}\".format(_nb_loc), \"https://github.com/ychoi-kr/practical-ml-vision-book-ko/blob/master/{0}\".format(_nb_loc), \"https://raw.githubusercontent.com/ychoi-kr/practical-ml-vision-book-ko/master/{0}\".format(_nb_loc)]\n",
        "md(\"\"\"<table class=\"tfo-notebook-buttons\" align=\"left\"><td><a target=\"_blank\" href=\"{0}\"><img src=\"{4}\"/>AI Platform Notebook에서 실행</a></td><td><a target=\"_blank\" href=\"{1}\"><img src=\"{5}\" />Google Colab에서 실행</a></td><td><a target=\"_blank\" href=\"{2}\"><img src=\"{6}\" />GitHub에서 소스 보기</a></td><td><a href=\"{3}\"><img src=\"{7}\" />노트북 내려받기</a></td></table><br/><br/><h1>{8}</h1>{9}\"\"\".format(_links[0], _links[1], _links[2], _links[3], _icons[0], _icons[1], _icons[2], _icons[3], _nb_title, _nb_message))"
      ]
    },
    {
      "cell_type": "code",
      "execution_count": null,
      "metadata": {
        "id": "83HQKgMce0yZ",
        "outputId": "8103f880-41a3-4548-823f-8aff569ddb91"
      },
      "outputs": [
        {
          "name": "stdout",
          "output_type": "stream",
          "text": [
            "\u001b[33m  WARNING: The script normalizer is installed in '/home/jupyter/.local/bin' which is not on PATH.\n",
            "  Consider adding this directory to PATH or, if you prefer to suppress this warning, use --no-warn-script-location.\u001b[0m\n",
            "\u001b[33m  WARNING: The scripts pyrsa-decrypt, pyrsa-encrypt, pyrsa-keygen, pyrsa-priv2pub, pyrsa-sign and pyrsa-verify are installed in '/home/jupyter/.local/bin' which is not on PATH.\n",
            "  Consider adding this directory to PATH or, if you prefer to suppress this warning, use --no-warn-script-location.\u001b[0m\n",
            "\u001b[33m  WARNING: The script wheel is installed in '/home/jupyter/.local/bin' which is not on PATH.\n",
            "  Consider adding this directory to PATH or, if you prefer to suppress this warning, use --no-warn-script-location.\u001b[0m\n",
            "\u001b[33m  WARNING: The scripts f2py, f2py3 and f2py3.7 are installed in '/home/jupyter/.local/bin' which is not on PATH.\n",
            "  Consider adding this directory to PATH or, if you prefer to suppress this warning, use --no-warn-script-location.\u001b[0m\n",
            "\u001b[33m  WARNING: The script markdown_py is installed in '/home/jupyter/.local/bin' which is not on PATH.\n",
            "  Consider adding this directory to PATH or, if you prefer to suppress this warning, use --no-warn-script-location.\u001b[0m\n",
            "\u001b[33m  WARNING: The script google-oauthlib-tool is installed in '/home/jupyter/.local/bin' which is not on PATH.\n",
            "  Consider adding this directory to PATH or, if you prefer to suppress this warning, use --no-warn-script-location.\u001b[0m\n",
            "\u001b[33m  WARNING: The script tensorboard is installed in '/home/jupyter/.local/bin' which is not on PATH.\n",
            "  Consider adding this directory to PATH or, if you prefer to suppress this warning, use --no-warn-script-location.\u001b[0m\n",
            "\u001b[33m  WARNING: The scripts estimator_ckpt_converter, import_pb_to_tensorboard, saved_model_cli, tensorboard, tf_upgrade_v2, tflite_convert, toco and toco_from_protos are installed in '/home/jupyter/.local/bin' which is not on PATH.\n",
            "  Consider adding this directory to PATH or, if you prefer to suppress this warning, use --no-warn-script-location.\u001b[0m\n",
            "\u001b[31mERROR: pip's dependency resolver does not currently take into account all the packages that are installed. This behaviour is the source of the following dependency conflicts.\n",
            "explainable-ai-sdk 1.3.2 requires xai-image-widget, which is not installed.\n",
            "tfx-bsl 1.4.0 requires absl-py<0.13,>=0.9, but you have absl-py 1.0.0 which is incompatible.\n",
            "tfx-bsl 1.4.0 requires google-api-python-client<2,>=1.7.11, but you have google-api-python-client 2.31.0 which is incompatible.\n",
            "tfx-bsl 1.4.0 requires numpy<1.20,>=1.16, but you have numpy 1.21.4 which is incompatible.\n",
            "tfx-bsl 1.4.0 requires pyarrow<6,>=1, but you have pyarrow 6.0.1 which is incompatible.\n",
            "tfx-bsl 1.4.0 requires tensorflow-metadata<1.5,>=1.4, but you have tensorflow-metadata 1.5.0 which is incompatible.\n",
            "tensorflow-transform 1.4.0 requires absl-py<0.13,>=0.9, but you have absl-py 1.0.0 which is incompatible.\n",
            "tensorflow-transform 1.4.0 requires numpy<1.20,>=1.16, but you have numpy 1.21.4 which is incompatible.\n",
            "tensorflow-transform 1.4.0 requires pyarrow<6,>=1, but you have pyarrow 6.0.1 which is incompatible.\n",
            "tensorflow-transform 1.4.0 requires tensorflow!=2.0.*,!=2.1.*,!=2.2.*,!=2.3.*,!=2.4.*,!=2.5.*,<2.7,>=1.15.2, but you have tensorflow 2.7.0 which is incompatible.\n",
            "tensorflow-transform 1.4.0 requires tensorflow-metadata<1.5.0,>=1.4.0, but you have tensorflow-metadata 1.5.0 which is incompatible.\n",
            "tensorflow-metadata 1.5.0 requires absl-py<0.13,>=0.9, but you have absl-py 1.0.0 which is incompatible.\n",
            "tensorflow-io 0.21.0 requires tensorflow<2.7.0,>=2.6.0, but you have tensorflow 2.7.0 which is incompatible.\n",
            "tensorflow-io 0.21.0 requires tensorflow-io-gcs-filesystem==0.21.0, but you have tensorflow-io-gcs-filesystem 0.22.0 which is incompatible.\n",
            "pandas-profiling 3.0.0 requires tangled-up-in-unicode==0.1.0, but you have tangled-up-in-unicode 0.2.0 which is incompatible.\n",
            "numba 0.54.1 requires numpy<1.21,>=1.17, but you have numpy 1.21.4 which is incompatible.\n",
            "google-cloud-recommendations-ai 0.2.0 requires google-api-core[grpc]<2.0.0dev,>=1.22.2, but you have google-api-core 2.2.2 which is incompatible.\n",
            "apache-beam 2.34.0 requires dill<0.3.2,>=0.3.1.1, but you have dill 0.3.4 which is incompatible.\n",
            "apache-beam 2.34.0 requires httplib2<0.20.0,>=0.8, but you have httplib2 0.20.2 which is incompatible.\n",
            "apache-beam 2.34.0 requires numpy<1.21.0,>=1.14.3, but you have numpy 1.21.4 which is incompatible.\n",
            "apache-beam 2.34.0 requires pyarrow<6.0.0,>=0.15.1, but you have pyarrow 6.0.1 which is incompatible.\n",
            "apache-beam 2.34.0 requires typing-extensions<4,>=3.7.0, but you have typing-extensions 4.0.1 which is incompatible.\u001b[0m\n"
          ]
        }
      ],
      "source": [
        "!pip install --user --quiet --force keras-adamw"
      ]
    },
    {
      "cell_type": "code",
      "execution_count": null,
      "metadata": {
        "id": "4X-jbjAIe0yZ",
        "outputId": "4047af26-3d90-4ecd-f582-21f36cbf37dd"
      },
      "outputs": [
        {
          "data": {
            "text/plain": [
              "{'status': 'ok', 'restart': True}"
            ]
          },
          "execution_count": 3,
          "metadata": {},
          "output_type": "execute_result"
        }
      ],
      "source": [
        "# adamw 패키지를 선택하기 위해 커널을 재시작\n",
        "import IPython\n",
        "\n",
        "IPython.Application.instance().kernel.do_shutdown(True)  # 자동으로 커널을 재시작"
      ]
    },
    {
      "cell_type": "code",
      "execution_count": null,
      "metadata": {
        "_cell_guid": "b1076dfc-b9ad-4769-8c92-a6c4dae69d19",
        "_uuid": "8f2839f25d086af736a60e9eeb907d3b93b6e0e5",
        "id": "7lFb0xdNe0yZ",
        "outputId": "1ae34751-3b1e-41c3-8cab-8ac5457055f6"
      },
      "outputs": [
        {
          "name": "stdout",
          "output_type": "stream",
          "text": [
            "Tensorflow version 2.7.0\n"
          ]
        }
      ],
      "source": [
        "import math, re, os, sys\n",
        "import tensorflow as tf\n",
        "import numpy as np\n",
        "from matplotlib import pyplot as plt\n",
        "from sklearn.metrics import f1_score, precision_score, recall_score, confusion_matrix\n",
        "print(\"Tensorflow version \" + tf.__version__)\n",
        "AUTO = tf.data.experimental.AUTOTUNE"
      ]
    },
    {
      "cell_type": "code",
      "execution_count": null,
      "metadata": {
        "id": "apRcdeR6e0ya"
      },
      "outputs": [],
      "source": [
        "# 경고! 이 호출은 *모든* TensorFlow 호출 전에 와야 한다.\n",
        "# AdamW를 찾을 수 없다는 오류가 발생하면 커널을 다시 시작하고 이전 셀에서 시작하라.\n",
        "os.environ['TF_KERAS'] = '1'  # AdamW\n",
        "from keras_adamw import AdamW"
      ]
    },
    {
      "cell_type": "markdown",
      "metadata": {
        "id": "BYXzglrke0ya"
      },
      "source": [
        "# TPU 또는 GPU 감지"
      ]
    },
    {
      "cell_type": "code",
      "execution_count": null,
      "metadata": {
        "id": "vXQd6LDPe0yb",
        "outputId": "37621dca-30a3-4494-91b9-1e1ca06ade00"
      },
      "outputs": [
        {
          "name": "stdout",
          "output_type": "stream",
          "text": [
            "WARNING:tensorflow:There are non-GPU devices in `tf.distribute.Strategy`, not using nccl allreduce.\n",
            "INFO:tensorflow:Using MirroredStrategy with devices ('/job:localhost/replica:0/task:0/device:CPU:0',)\n",
            "REPLICAS:  1\n"
          ]
        },
        {
          "name": "stderr",
          "output_type": "stream",
          "text": [
            "2021-12-04 17:32:27.278316: I tensorflow/stream_executor/cuda/cuda_gpu_executor.cc:939] successful NUMA node read from SysFS had negative value (-1), but there must be at least one NUMA node, so returning NUMA node zero\n",
            "2021-12-04 17:32:27.283342: W tensorflow/stream_executor/platform/default/dso_loader.cc:64] Could not load dynamic library 'libcusolver.so.11'; dlerror: libcusolver.so.11: cannot open shared object file: No such file or directory; LD_LIBRARY_PATH: /usr/local/cuda/lib64:/usr/local/nccl2/lib:/usr/local/cuda/extras/CUPTI/lib64\n",
            "2021-12-04 17:32:27.284096: W tensorflow/core/common_runtime/gpu/gpu_device.cc:1850] Cannot dlopen some GPU libraries. Please make sure the missing libraries mentioned above are installed properly if you would like to use GPU. Follow the guide at https://www.tensorflow.org/install/gpu for how to download and setup the required libraries for your platform.\n",
            "Skipping registering GPU devices...\n",
            "2021-12-04 17:32:27.285920: I tensorflow/core/platform/cpu_feature_guard.cc:151] This TensorFlow binary is optimized with oneAPI Deep Neural Network Library (oneDNN) to use the following CPU instructions in performance-critical operations:  AVX2 FMA\n",
            "To enable them in other operations, rebuild TensorFlow with the appropriate compiler flags.\n"
          ]
        }
      ],
      "source": [
        "try: # TPU를 감지\n",
        "    tpu = tf.distribute.cluster_resolver.TPUClusterResolver.connect()\n",
        "    strategy = tf.distribute.TPUStrategy(tpu)\n",
        "except ValueError:  # GPU들 또는 여러 대의 GPU 머신을 감지\n",
        "    strategy = tf.distribute.MirroredStrategy()\n",
        "\n",
        "print(\"REPLICAS: \", strategy.num_replicas_in_sync)"
      ]
    },
    {
      "cell_type": "markdown",
      "metadata": {
        "id": "OqJFT9hze0yc"
      },
      "source": [
        "# 구성"
      ]
    },
    {
      "cell_type": "code",
      "execution_count": null,
      "metadata": {
        "id": "9WoEaXAle0yc",
        "outputId": "c5ed84a0-00c7-4e03-d186-dc15af08d432"
      },
      "outputs": [
        {
          "name": "stdout",
          "output_type": "stream",
          "text": [
            "Learning rate schedule: 1e-05 to 0.0001 to 2.21e-05\n"
          ]
        },
        {
          "data": {
            "image/png": "[encoded data removed]",
            "text/plain": [
              "<Figure size 432x288 with 1 Axes>"
            ]
          },
          "metadata": {
            "needs_background": "light"
          },
          "output_type": "display_data"
        }
      ],
      "source": [
        "GCS_DS_PATH = \"gs://practical-ml-vision-book/flowers_5_tfr\"\n",
        "\n",
        "# TPUv3에 대한 설정. TPUv2(Colab) 또는 GPU와 같이 메모리가 적은 하드웨어에서\n",
        "# 실행하는 경우 더 낮은 BATCH_SIZE 및 IMAGE_SIZE 값을 사용해야 할 수 있다.\n",
        "\n",
        "IMAGE_SIZE = [224, 224]  # flowers104 데이터셋에서 사용 가능한 이미지 크기: 512x512, 331x331, 224x224, 192x192\n",
        "EPOCHS = 13\n",
        "\n",
        "# 파인 튜닝을 위한 학습률 스케줄: trainable=True 사용(최고 검증 정확도 0.91)\n",
        "#BATCH_SIZE = 16 * strategy.num_replicas_in_sync\n",
        "#LR_START = 0.00001\n",
        "#LR_MAX = 0.000025 * strategy.num_replicas_in_sync\n",
        "#LR_MIN = 0.00001\n",
        "#LR_RAMPUP_EPOCHS = 3\n",
        "#LR_SUSTAIN_EPOCHS = 1\n",
        "#LR_EXP_DECAY = .8\n",
        "\n",
        "# AdamW를 사용한 파인 튜닝을 위한 학습률 스케줄: trainable=True 사용(최고 검증 정확도 0.92)\n",
        "BATCH_SIZE = 8 * strategy.num_replicas_in_sync\n",
        "LR_START = 0.00001\n",
        "LR_MAX = 0.0001 * strategy.num_replicas_in_sync\n",
        "LR_MIN = 0.00001\n",
        "LR_RAMPUP_EPOCHS = 3\n",
        "LR_SUSTAIN_EPOCHS = 0\n",
        "LR_EXP_DECAY = .8\n",
        "\n",
        "# 전이 학습을 위한 학습률 스케줄: trainable=False 사용(최고 검증 정확도 0.90)\n",
        "#BATCH_SIZE = 16 * strategy.num_replicas_in_sync\n",
        "#LR_START = 0.00001\n",
        "#LR_MAX = 0.00075 * strategy.num_replicas_in_sync #(참고: 책의 그래프를 복제하려면 0.00007과 trainable=True로 설정)\n",
        "#LR_MIN = 0.00001\n",
        "#LR_RAMPUP_EPOCHS = 0\n",
        "#LR_SUSTAIN_EPOCHS = 0\n",
        "#LR_EXP_DECAY = .8\n",
        "\n",
        "GCS_PATH_SELECT = {  # 사용 가능한 이미지 크기\n",
        "    192: GCS_DS_PATH + '/tfrecords-jpeg-192x192',\n",
        "    224: GCS_DS_PATH + '/tfrecords-jpeg-224x224',\n",
        "    331: GCS_DS_PATH + '/tfrecords-jpeg-331x331',\n",
        "    512: GCS_DS_PATH + '/tfrecords-jpeg-512x512'\n",
        "}\n",
        "GCS_PATH = GCS_PATH_SELECT[IMAGE_SIZE[0]] + '/*.tfrec'\n",
        "filenames = tf.io.gfile.glob(GCS_PATH)\n",
        "validation_split = 0.19\n",
        "split = len(filenames) - int(len(filenames) * validation_split)\n",
        "TRAINING_FILENAMES = filenames[:split]\n",
        "VALIDATION_FILENAMES = filenames[split:]\n",
        "\n",
        "CLASSES = ['daisy', 'dandelion', 'roses', 'sunflowers', 'tulips']\n",
        "\n",
        "def lrfn(epoch):\n",
        "    if epoch < LR_RAMPUP_EPOCHS:\n",
        "        lr = (LR_MAX - LR_START) / LR_RAMPUP_EPOCHS * epoch + LR_START\n",
        "    elif epoch < LR_RAMPUP_EPOCHS + LR_SUSTAIN_EPOCHS:\n",
        "        lr = LR_MAX\n",
        "    else:\n",
        "        lr = (LR_MAX - LR_MIN) * LR_EXP_DECAY**(epoch - LR_RAMPUP_EPOCHS - LR_SUSTAIN_EPOCHS) + LR_MIN\n",
        "    return lr\n",
        "    \n",
        "lr_callback = tf.keras.callbacks.LearningRateScheduler(lrfn, verbose=True)\n",
        "\n",
        "rng = [i for i in range(EPOCHS)]\n",
        "y = [lrfn(x) for x in rng]\n",
        "plt.plot(rng, y)\n",
        "print(\"Learning rate schedule: {:.3g} to {:.3g} to {:.3g}\".format(y[0], max(y), y[-1]))"
      ]
    },
    {
      "cell_type": "markdown",
      "metadata": {
        "id": "L6czN2U_e0yd"
      },
      "source": [
        "## 시각화 유틸리티\n",
        "data -> pixels, nothing of much interest for the machine learning practitioner in this section."
      ]
    },
    {
      "cell_type": "code",
      "execution_count": null,
      "metadata": {
        "id": "xn7uAUlse0yd"
      },
      "outputs": [],
      "source": [
        "# numpy와 matplotlib 기본값\n",
        "np.set_printoptions(threshold=15, linewidth=80)\n",
        "\n",
        "def batch_to_numpy_images_and_labels(data):\n",
        "    images, labels = data\n",
        "    numpy_images = images.numpy()\n",
        "    numpy_labels = labels.numpy()\n",
        "    if numpy_labels.dtype == object:  # 이 경우 이진 문자열. 이것들은 이미지 ID 문자열임\n",
        "        numpy_labels = [None for _ in enumerate(numpy_images)]\n",
        "    # 레이블이 없고 이미지 ID만 있는 경우, 레이블에 대해 None을 반환(테스트 데이터의 경우)\n",
        "    return numpy_images, numpy_labels\n",
        "\n",
        "def title_from_label_and_target(label, correct_label):\n",
        "    if correct_label is None:\n",
        "        return CLASSES[label], True\n",
        "    correct = (label == correct_label)\n",
        "    return \"{} [{}{}{}]\".format(CLASSES[label], 'OK' if correct else 'NO', u\"\\u2192\" if not correct else '',\n",
        "                                CLASSES[correct_label] if not correct else ''), correct\n",
        "\n",
        "def display_one_flower(image, title, subplot, red=False, titlesize=16):\n",
        "    plt.subplot(*subplot)\n",
        "    plt.axis('off')\n",
        "    plt.imshow(image)\n",
        "    if len(title) > 0:\n",
        "        plt.title(title, fontsize=int(titlesize) if not red else int(titlesize/1.2), color='red' if red else 'black', fontdict={'verticalalignment':'center'}, pad=int(titlesize/1.5))\n",
        "    return (subplot[0], subplot[1], subplot[2]+1)\n",
        "    \n",
        "def display_batch_of_images(databatch, predictions=None):\n",
        "    \"\"\"This will work with:\n",
        "    display_batch_of_images(images)\n",
        "    display_batch_of_images(images, predictions)\n",
        "    display_batch_of_images((images, labels))\n",
        "    display_batch_of_images((images, labels), predictions)\n",
        "    \"\"\"\n",
        "    # 데이터터\n",
        "    images, labels = batch_to_numpy_images_and_labels(databatch)\n",
        "    if labels is None:\n",
        "        labels = [None for _ in enumerate(images)]\n",
        "        \n",
        "    # 정사각형 또는 정사각형에 가까운 직사각형에 맞지 않는 데이터를 삭제\n",
        "    rows = int(math.sqrt(len(images)))\n",
        "    cols = len(images)//rows\n",
        "        \n",
        "    # 크기와 간격\n",
        "    FIGSIZE = 13.0\n",
        "    SPACING = 0.1\n",
        "    subplot=(rows,cols,1)\n",
        "    if rows < cols:\n",
        "        plt.figure(figsize=(FIGSIZE,FIGSIZE/cols*rows))\n",
        "    else:\n",
        "        plt.figure(figsize=(FIGSIZE/rows*cols,FIGSIZE))\n",
        "    \n",
        "    # 디스플레이\n",
        "    for i, (image, label) in enumerate(zip(images[:rows*cols], labels[:rows*cols])):\n",
        "        title = '' if label is None else CLASSES[label]\n",
        "        correct = True\n",
        "        if predictions is not None:\n",
        "            title, correct = title_from_label_and_target(predictions[i], label)\n",
        "        dynamic_titlesize = FIGSIZE*SPACING/max(rows,cols)*40+3  # 1x1에서 10x10 사이의 이미지에 잘 맞는 마법 공식\n",
        "        subplot = display_one_flower(image, title, subplot, not correct, titlesize=dynamic_titlesize)\n",
        "    \n",
        "    # 레이아웃\n",
        "    plt.tight_layout()\n",
        "    if label is None and predictions is None:\n",
        "        plt.subplots_adjust(wspace=0, hspace=0)\n",
        "    else:\n",
        "        plt.subplots_adjust(wspace=SPACING, hspace=SPACING)\n",
        "    plt.show()\n",
        "\n",
        "def display_confusion_matrix(cmat, score, precision, recall):\n",
        "    #plt.figure(figsize=(15,15))\n",
        "    ax = plt.gca()\n",
        "    ax.matshow(cmat, cmap='Reds')\n",
        "    ax.set_xticks(range(len(CLASSES)))\n",
        "    ax.set_xticklabels(CLASSES)\n",
        "    plt.setp(ax.get_xticklabels(), rotation=45, ha=\"left\", rotation_mode=\"anchor\")\n",
        "    ax.set_yticks(range(len(CLASSES)))\n",
        "    ax.set_yticklabels(CLASSES)\n",
        "    plt.setp(ax.get_yticklabels(), rotation=45, ha=\"right\", rotation_mode=\"anchor\")\n",
        "    #titlestring = \"\"\n",
        "    #if score is not None:\n",
        "    #    titlestring += 'f1 = {:.3f} '.format(score)\n",
        "    #if precision is not None:\n",
        "    #    titlestring += '\\nprecision = {:.3f} '.format(precision)\n",
        "    #if recall is not None:\n",
        "    #    titlestring += '\\nrecall = {:.3f} '.format(recall)\n",
        "    #if len(titlestring) > 0:\n",
        "    #    ax.text(101, 1, titlestring, fontdict={'fontsize': 18, 'horizontalalignment':'right', 'verticalalignment':'top', 'color':'#804040'})\n",
        "    plt.show()\n",
        "    \n",
        "def display_training_curves(training, validation, title, subplot, zoom_pcent=None, ylim=None):\n",
        "    # zoom_pcent: X는 데이터 포인트의 마지막 X%에 대해 y축을 자동 조정\n",
        "    if subplot%10==1:  # 첫 번째 호출에서 서브플롯 설정\n",
        "        plt.subplots(figsize=(10,10), facecolor='#F0F0F0')\n",
        "        plt.tight_layout()\n",
        "    ax = plt.subplot(subplot)\n",
        "    ax.set_facecolor('#F8F8F8')\n",
        "    ax.plot(training)\n",
        "    ax.plot(validation, '--')\n",
        "    ax.set_title('model '+ title)\n",
        "    ax.set_ylabel(title)\n",
        "    if zoom_pcent is not None:\n",
        "        ylen = len(training)*(100-zoom_pcent)//100\n",
        "        ymin = min([min(training[ylen:]), min(validation[ylen:])])\n",
        "        ymax = max([max(training[ylen:]), max(validation[ylen:])])\n",
        "        ax.set_ylim([ymin-(ymax-ymin)/20, ymax+(ymax-ymin)/20])\n",
        "    if ylim is not None:\n",
        "        ymin = ylim[0]\n",
        "        ymax = ylim[1]\n",
        "        ax.set_ylim([ymin-(ymax-ymin)/20, ymax+(ymax-ymin)/20])\n",
        "    ax.set_xlabel('epoch')\n",
        "    ax.legend(['train', 'valid.'])"
      ]
    },
    {
      "cell_type": "markdown",
      "metadata": {
        "id": "v8CEL6Jqe0ye"
      },
      "source": [
        "# 데이터셋"
      ]
    },
    {
      "cell_type": "code",
      "execution_count": null,
      "metadata": {
        "_cell_guid": "79c7e3d0-c299-4dcb-8224-4455121ee9b0",
        "_uuid": "d629ff2d2480ee46fbb7e2d37f6b5fab8052498a",
        "id": "g3eoSTFle0ye"
      },
      "outputs": [],
      "source": [
        "def decode_image(image_data):\n",
        "    image = tf.image.decode_jpeg(image_data, channels=3)  # [0,255] 범위의 uint8 형식으로 디코딩된 이미지\n",
        "    image = tf.reshape(image, [*IMAGE_SIZE, 3])  # TPU에 필요한 명시적 크기\n",
        "    return image\n",
        "\n",
        "def read_tfrecord(example):\n",
        "    TFREC_FORMAT = {\n",
        "        \"image\": tf.io.FixedLenFeature([], tf.string), # tf.string은 바이트스트링을 의미\n",
        "        \"class\": tf.io.FixedLenFeature([], tf.int64),  # [] 모양은 단일 요소를 의미\n",
        "    }\n",
        "    example = tf.io.parse_single_example(example, TFREC_FORMAT)\n",
        "    image = decode_image(example['image'])\n",
        "    label = tf.cast(example['class'], tf.int32)\n",
        "    return image, label  # (image, label) 쌍의 데이터셋을 반환\n",
        "\n",
        "def load_dataset(filenames, ordered=False):\n",
        "    # TFRecords에서 읽는다. 최적의 성능을 위해 한 번에 여러 파일에서 읽고 데이터\n",
        "    # 순서를 무시한다. 어차피 데이터를 섞을 것이므로 순서는 중요하지 않다.\n",
        "\n",
        "    ignore_order = tf.data.Options()\n",
        "    if not ordered:\n",
        "        ignore_order.experimental_deterministic = False  # 순서를 비활성화, 속도 향상\n",
        "\n",
        "    dataset = tf.data.TFRecordDataset(filenames, num_parallel_reads=AUTO)  # 여러 파일에서 읽기를 자동으로 인터리빙\n",
        "    dataset = dataset.with_options(ignore_order)  # 원래 순서가 아닌 스트리밍되는 즉시 데이터를 사용\n",
        "    dataset = dataset.map(read_tfrecord, num_parallel_calls=AUTO)\n",
        "    # (image, label) 쌍의 데이터셋을 반환\n",
        "    return dataset\n",
        "\n",
        "def data_augment(image, label):\n",
        "    # 데이터 증강. 다음 함수(아래)의 dataset.prefetch(AUTO) 문 덕분에 이는\n",
        "    # 기본적으로 TPU에서 무료로 이뤄진다. 데이터 파이프라인 코드는 TPU 자체가\n",
        "    # 기울기를 계산하는 동안 TPU의 \"CPU\" 부분에서 실행된다.\n",
        "    image = tf.image.random_flip_left_right(image)\n",
        "    #image = tf.image.random_saturation(image, 0, 2)\n",
        "    return image, label   \n",
        "\n",
        "def get_training_dataset():\n",
        "    dataset = load_dataset(TRAINING_FILENAMES)\n",
        "    dataset = dataset.map(data_augment, num_parallel_calls=AUTO)\n",
        "    dataset = dataset.repeat()  # 훈련 데이터셋은 여러 에포크 동안 반복되어야 함\n",
        "    dataset = dataset.shuffle(2048)\n",
        "    dataset = dataset.batch(BATCH_SIZE)\n",
        "    dataset = dataset.prefetch(AUTO)  # 훈련하는 동안 다음 배치를 미리 준비(프리페치 버퍼 크기 자동 조정)\n",
        "    return dataset\n",
        "\n",
        "def get_validation_dataset(ordered=False):\n",
        "    dataset = load_dataset(VALIDATION_FILENAMES, ordered=ordered)\n",
        "    dataset = dataset.batch(BATCH_SIZE)\n",
        "    dataset = dataset.cache()\n",
        "    dataset = dataset.prefetch(AUTO)  # 훈련하는 동안 다음 배치를 미리 준비(프리페치 버퍼 크기 자동 조정)\n",
        "    return dataset\n",
        "\n",
        "def count_data_items(filenames):\n",
        "    # 데이터 항목의 수는 .tfrec 파일의 이름으로 기록된다. 즉, flowers00-230.tfrec = 230 데이터 항목이다.\n",
        "    n = [int(re.compile(r\"-([0-9]*)\\.\").search(filename).group(1)) for filename in filenames]\n",
        "    return np.sum(n)\n",
        "\n",
        "NUM_TRAINING_IMAGES = count_data_items(TRAINING_FILENAMES)\n",
        "NUM_VALIDATION_IMAGES = count_data_items(VALIDATION_FILENAMES)\n",
        "TRAIN_STEPS = NUM_TRAINING_IMAGES // BATCH_SIZE\n",
        "STEPS_PER_EPOCH = NUM_TRAINING_IMAGES // BATCH_SIZE\n",
        "VALIDATION_STEPS = -(-NUM_VALIDATION_IMAGES // BATCH_SIZE) # The \"-(-//)\" trick rounds up instead of down :-)\n",
        "print('Dataset: {} training images, {} validation images'.format(NUM_TRAINING_IMAGES, NUM_VALIDATION_IMAGES))"
      ]
    },
    {
      "cell_type": "markdown",
      "metadata": {
        "id": "L8WcT2Kae0ye"
      },
      "source": [
        "# 데이터셋 시각화 (5 flowers)"
      ]
    },
    {
      "cell_type": "code",
      "execution_count": null,
      "metadata": {
        "id": "ndOisDRpe0yf"
      },
      "outputs": [],
      "source": [
        "# 데이터 덤프\n",
        "print(\"Training data shapes:\")\n",
        "for image, label in get_training_dataset().take(3):\n",
        "    print(image.numpy().shape, label.numpy().shape)\n",
        "print(\"Training data label examples:\", label.numpy())"
      ]
    },
    {
      "cell_type": "code",
      "execution_count": null,
      "metadata": {
        "id": "ZN7XDkEAe0yf"
      },
      "outputs": [],
      "source": [
        "# 훈련 데이터 엿보기\n",
        "training_dataset = get_training_dataset()\n",
        "training_dataset = training_dataset.unbatch().batch(20)\n",
        "train_batch = iter(training_dataset)"
      ]
    },
    {
      "cell_type": "code",
      "execution_count": null,
      "metadata": {
        "id": "sHm_x05fe0yf"
      },
      "outputs": [],
      "source": [
        "# 다음 이미지 세트를 위해 이 셀을 다시 실행\n",
        "display_batch_of_images(next(train_batch))"
      ]
    },
    {
      "cell_type": "markdown",
      "metadata": {
        "id": "uCRLijwue0yf"
      },
      "source": [
        "# 모델"
      ]
    },
    {
      "cell_type": "code",
      "execution_count": null,
      "metadata": {
        "id": "SKkqZdI8e0yf"
      },
      "outputs": [],
      "source": [
        "with strategy.scope():\n",
        "    pretrained_model = tf.keras.applications.MobileNetV2(\n",
        "        weights='imagenet',\n",
        "        include_top=False,\n",
        "        input_shape=[*IMAGE_SIZE, 3])\n",
        "    \n",
        "    pretrained_model.trainable = True  # 파인 튜닝\n",
        "    \n",
        "    model = tf.keras.Sequential([\n",
        "        tf.keras.layers.Lambda(  # 이미지 형식을 int[0,255]에서 이 모델이 예상하는 형식으로 변환\n",
        "            lambda data: tf.keras.applications.mobilenet.preprocess_input(\n",
        "                tf.cast(data, tf.float32)), input_shape=[*IMAGE_SIZE, 3]),\n",
        "        pretrained_model,\n",
        "        tf.keras.layers.GlobalAveragePooling2D(),\n",
        "        tf.keras.layers.Dense(16, activation='relu', name='flower_dense'),\n",
        "        tf.keras.layers.Dense(len(CLASSES), activation='softmax', name='flower_prob')\n",
        "    ])\n",
        "    \n",
        "    mult = 0.4  # 사전 훈련된 레이어의 경우\n",
        "    mult_by_layer={ \n",
        "            # 분류 헤드\n",
        "            'flower_prob': 1.0,\n",
        "            'flower_dense': 1.0,\n",
        "            # 사전 훈련된 레이어\n",
        "            'block_1_': 0.02 * mult,\n",
        "            'block_2_': 0.04 * mult,\n",
        "            'block_3_': 0.06 * mult,\n",
        "            'block_4_': 0.08 * mult,\n",
        "            'block_5_': 0.1 * mult,\n",
        "            'block_6_': 0.15 * mult,\n",
        "            'block_7_': 0.2 * mult,\n",
        "            'block_8_': 0.25 * mult,\n",
        "            'block_9_': 0.3 * mult,\n",
        "            'block_10_': 0.35 * mult,\n",
        "            'block_11_': 0.4 * mult,\n",
        "            'block_12_': 0.5 * mult,\n",
        "            'block_13_': 0.6 * mult,\n",
        "            'block_14_': 0.7 * mult,\n",
        "            'block_15_': 0.8 * mult,\n",
        "            'block_16_': 0.9 * mult,\n",
        "            # 이 레이어들은 tf.keras.applications.MobileNetV2에 안정적인 식별자가 없음\n",
        "            'conv': 0.5 * mult,\n",
        "            'Conv': 0.5 * mult\n",
        "    }\n",
        "        \n",
        "    optimizer = AdamW(lr=LR_MAX, model=model, lr_multipliers=mult_by_layer)\n",
        "    \n",
        "model.compile(\n",
        "    #optimizer='adam',\n",
        "    optimizer=optimizer,\n",
        "    loss = 'sparse_categorical_crossentropy',\n",
        "    metrics=['sparse_categorical_accuracy'],\n",
        "    steps_per_execution=8\n",
        ")\n",
        "model.summary()"
      ]
    },
    {
      "cell_type": "markdown",
      "metadata": {
        "id": "QiTy1KX_e0yg"
      },
      "source": [
        "# 훈련"
      ]
    },
    {
      "cell_type": "code",
      "execution_count": null,
      "metadata": {
        "id": "3kiwiSIQe0yg"
      },
      "outputs": [],
      "source": [
        "history = model.fit(get_training_dataset(), steps_per_epoch=STEPS_PER_EPOCH, epochs=EPOCHS,\n",
        "                    validation_data=get_validation_dataset(), validation_steps=VALIDATION_STEPS,\n",
        "                    callbacks=[lr_callback])"
      ]
    },
    {
      "cell_type": "code",
      "execution_count": null,
      "metadata": {
        "id": "ga9mBUwie0yg"
      },
      "outputs": [],
      "source": [
        "display_training_curves(history.history['loss'], history.history['val_loss'], 'loss', 211, ylim=[0,1.7])\n",
        "display_training_curves(history.history['sparse_categorical_accuracy'], history.history['val_sparse_categorical_accuracy'], 'accuracy', 212)\n"
      ]
    },
    {
      "cell_type": "markdown",
      "metadata": {
        "id": "Aog2J5DOe0yg"
      },
      "source": [
        "# 혼동 행렬"
      ]
    },
    {
      "cell_type": "code",
      "execution_count": null,
      "metadata": {
        "id": "GS0fAu0we0yg"
      },
      "outputs": [],
      "source": [
        "cmdataset = get_validation_dataset(ordered=True)  # 데이터셋을 분할하고 이미지와 레이블을 개별적으로 반복하므로 순서가 중요\n",
        "images_ds = cmdataset.map(lambda image, label: image)\n",
        "labels_ds = cmdataset.map(lambda image, label: label).unbatch()\n",
        "cm_correct_labels = next(iter(labels_ds.batch(NUM_VALIDATION_IMAGES))).numpy()  # 모든 것을 하나의 배치로 가져오기\n",
        "cm_probabilities = model.predict(images_ds, steps=VALIDATION_STEPS)\n",
        "cm_predictions = np.argmax(cm_probabilities, axis=-1)\n",
        "print(\"Correct   labels: \", cm_correct_labels.shape, cm_correct_labels)\n",
        "print(\"Predicted labels: \", cm_predictions.shape, cm_predictions)"
      ]
    },
    {
      "cell_type": "code",
      "execution_count": null,
      "metadata": {
        "id": "xPnXLBi3e0yg"
      },
      "outputs": [],
      "source": [
        "cmat = confusion_matrix(cm_correct_labels, cm_predictions, labels=range(len(CLASSES)))\n",
        "score = f1_score(cm_correct_labels, cm_predictions, labels=range(len(CLASSES)), average='macro')\n",
        "precision = precision_score(cm_correct_labels, cm_predictions, labels=range(len(CLASSES)), average='macro')\n",
        "recall = recall_score(cm_correct_labels, cm_predictions, labels=range(len(CLASSES)), average='macro')\n",
        "cmat = (cmat.T / cmat.sum(axis=1)).T # normalized\n",
        "display_confusion_matrix(cmat, score, precision, recall)\n",
        "print('f1 score: {:.3f}, precision: {:.3f}, recall: {:.3f}'.format(score, precision, recall))"
      ]
    },
    {
      "cell_type": "markdown",
      "metadata": {
        "id": "xBzykiSpe0yg"
      },
      "source": [
        "# 시각적 평가"
      ]
    },
    {
      "cell_type": "code",
      "execution_count": null,
      "metadata": {
        "id": "G2licXMEe0yg"
      },
      "outputs": [],
      "source": [
        "dataset = get_validation_dataset()\n",
        "dataset = dataset.unbatch().batch(20)\n",
        "batch = iter(dataset)"
      ]
    },
    {
      "cell_type": "code",
      "execution_count": null,
      "metadata": {
        "id": "-k9u9bpve0yh"
      },
      "outputs": [],
      "source": [
        "# 다음 이미지 세트를 위해 이 셀을 다시 실행\n",
        "images, labels = next(batch)\n",
        "probabilities = model.predict(images)\n",
        "predictions = np.argmax(probabilities, axis=-1)\n",
        "display_batch_of_images((images, labels), predictions)"
      ]
    },
    {
      "cell_type": "markdown",
      "metadata": {
        "id": "cjawOSXde0yh"
      },
      "source": [
        "## 라이선스\n",
        "Copyright 2021 Google Inc. Licensed under the Apache License, Version 2.0 (the \"License\"); you may not use this file except in compliance with the License. You may obtain a copy of the License at http://www.apache.org/licenses/LICENSE-2.0 Unless required by applicable law or agreed to in writing, software distributed under the License is distributed on an \"AS IS\" BASIS, WITHOUT WARRANTIES OR CONDITIONS OF ANY KIND, either express or implied. See the License for the specific language governing permissions and limitations under the License."
      ]
    }
  ],
  "metadata": {
    "environment": {
      "kernel": "python3",
      "name": "tf2-gpu.2-6.m87",
      "type": "gcloud",
      "uri": "gcr.io/deeplearning-platform-release/tf2-gpu.2-6:m87"
    },
    "kernelspec": {
      "display_name": "Python 3",
      "language": "python",
      "name": "python3"
    },
    "language_info": {
      "codemirror_mode": {
        "name": "ipython",
        "version": 3
      },
      "file_extension": ".py",
      "mimetype": "text/x-python",
      "name": "python",
      "nbconvert_exporter": "python",
      "pygments_lexer": "ipython3",
      "version": "3.7.12"
    },
    "colab": {
      "provenance": [],
      "toc_visible": true
    }
  },
  "nbformat": 4,
  "nbformat_minor": 0
}